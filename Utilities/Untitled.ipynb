{
 "cells": [
  {
   "cell_type": "code",
   "execution_count": 1,
   "metadata": {},
   "outputs": [],
   "source": [
    "import traceback\n",
    "import re\n",
    "import math\n",
    "import pandas as pd"
   ]
  },
  {
   "cell_type": "code",
   "execution_count": 2,
   "metadata": {},
   "outputs": [],
   "source": [
    "df=pd.read_csv(r\"D:\\TAPP_GIT\\Github\\Swiggy_New\\pAIges_Client\\cleanhdr_input.csv\")"
   ]
  },
  {
   "cell_type": "code",
   "execution_count": 3,
   "metadata": {},
   "outputs": [],
   "source": [
    "def assignVavluesToDf(col_name,col_vals,df,\n",
    "                      base_col = \"token_id\"):\n",
    "    import numpy as np\n",
    "    new_col = col_name + \"_new\"\n",
    "    df[new_col] = df[base_col].map(col_vals)\n",
    "    df[col_name] = np.where(df[new_col].isnull(),\n",
    "                            df[col_name],\n",
    "                            df[new_col])\n",
    "    return df"
   ]
  },
  {
   "cell_type": "code",
   "execution_count": 4,
   "metadata": {},
   "outputs": [],
   "source": [
    "def cleanHdrAmt(df):\n",
    "    \n",
    "    \n",
    "    df_copy = df.copy(deep = True)\n",
    "    try:\n",
    "        token_ids = df[((df[\"predict_label\"] == \"SGSTAmount\") | \n",
    "                        (df[\"predict_label\"] == \"CGSTAmount\") |\n",
    "                        (df[\"predict_label\"] == \"IGSTAmount\") |\n",
    "                        (df[\"predict_label\"] == \"totalAmount\") |\n",
    "                        (df[\"predict_label\"] == \"subTotal\") |\n",
    "                        (df[\"predict_label\"] == \"freightAmount\") |\n",
    "                        (df[\"predict_label\"] == \"discountAmount\")) &\n",
    "                       (df[\"line_row\"] > 0)][\"token_id\"]\n",
    "        \n",
    "        LI_token_ids =df[df[\"line_row\"]>0][\"token_id\"]\n",
    "        \n",
    "        print(token_ids,\"token\")\n",
    "        pred_lbl = {token_id:\"Unknown\" for token_id in token_ids}\n",
    "        #print(pred_lbl)\n",
    "        pred_prob = {token_id:1 for token_id in token_ids}\n",
    "        field_hdr = {token_id:0 for token_id in LI_token_ids}\n",
    "        print(LI_token_ids,\"LI\")\n",
    "        df = assignVavluesToDf(\"predict_label\",\n",
    "                               pred_lbl, df)\n",
    "        \n",
    "        df = assignVavluesToDf(\"prediction_probability\",\n",
    "                               pred_prob, df)\n",
    "        #print(df.shape)\n",
    "        df.to_csv(\"adding_pred_label.csv\")\n",
    "        df = assignVavluesToDf(\"prob_Unknown\",\n",
    "                               pred_prob, df)\n",
    "        \n",
    "        #print(df.shape,\"df\")\n",
    "        return df\n",
    "    except:\n",
    "        print(\"cleanHdrAmt\",\n",
    "              traceback.print_exc())\n",
    "        return df_copy"
   ]
  },
  {
   "cell_type": "code",
   "execution_count": 5,
   "metadata": {},
   "outputs": [
    {
     "name": "stdout",
     "output_type": "stream",
     "text": [
      "279       279\n",
      "302       302\n",
      "321       321\n",
      "345       345\n",
      "371       371\n",
      "1004    10334\n",
      "1028    10358\n",
      "1050    10380\n",
      "1622    20274\n",
      "1659    20311\n",
      "1679    20331\n",
      "Name: token_id, dtype: int64 token\n",
      "213       213\n",
      "214       214\n",
      "215       215\n",
      "216       216\n",
      "217       217\n",
      "        ...  \n",
      "1916    20568\n",
      "1917    20569\n",
      "1918    20570\n",
      "1919    20571\n",
      "1920    20572\n",
      "Name: token_id, Length: 1297, dtype: int64 LI\n"
     ]
    }
   ],
   "source": [
    "x=cleanHdrAmt(df)"
   ]
  },
  {
   "cell_type": "code",
   "execution_count": 6,
   "metadata": {},
   "outputs": [
    {
     "name": "stdout",
     "output_type": "stream",
     "text": [
      "      Unnamed: 0  index  token_id  page_num  line_num  \\\n",
      "0              0      0         0         0         0   \n",
      "1              1      1         1         0         0   \n",
      "2              2      2         2         0         1   \n",
      "3              3      3         3         0         1   \n",
      "4              4      4         4         0         1   \n",
      "...          ...    ...       ...       ...       ...   \n",
      "1916        1916   1916     20568         2       195   \n",
      "1917        1917   1917     20569         2       196   \n",
      "1918        1918   1918     20570         2       196   \n",
      "1919        1919   1919     20571         2       196   \n",
      "1920        1920   1920     20572         2       196   \n",
      "\n",
      "                       line_text  line_left  line_top  line_height  \\\n",
      "0                    TAX INVOICE     0.4620   0.02309     0.009834   \n",
      "1                    TAX INVOICE     0.4620   0.02309     0.009834   \n",
      "2              ADANI WILMAR LTD.     0.3810   0.03550     0.012400   \n",
      "3              ADANI WILMAR LTD.     0.3810   0.03550     0.012400   \n",
      "4              ADANI WILMAR LTD.     0.3810   0.03550     0.012400   \n",
      "...                          ...        ...       ...          ...   \n",
      "1916  COMPUTER GENERATED INVOICE     0.0779   0.91060     0.010690   \n",
      "1917                 Page 3 of 3     0.8467   0.91300     0.009410   \n",
      "1918                 Page 3 of 3     0.8467   0.91300     0.009410   \n",
      "1919                 Page 3 of 3     0.8467   0.91300     0.009410   \n",
      "1920                 Page 3 of 3     0.8467   0.91300     0.009410   \n",
      "\n",
      "      line_width  ...  prob_billingName_new  prob_billingGSTIN_new  \\\n",
      "0        0.08936  ...                   NaN                    NaN   \n",
      "1        0.08936  ...                   NaN                    NaN   \n",
      "2        0.18540  ...                   NaN                    NaN   \n",
      "3        0.18540  ...                   NaN                    NaN   \n",
      "4        0.18540  ...                   NaN                    NaN   \n",
      "...          ...  ...                   ...                    ...   \n",
      "1916     0.20410  ...                   NaN                    NaN   \n",
      "1917     0.05737  ...                   NaN                    NaN   \n",
      "1918     0.05737  ...                   NaN                    NaN   \n",
      "1919     0.05737  ...                   NaN                    NaN   \n",
      "1920     0.05737  ...                   NaN                    NaN   \n",
      "\n",
      "      prob_billingAddress_new prob_shippingName_new  prob_shippingGSTIN_new  \\\n",
      "0                         NaN                   NaN                     NaN   \n",
      "1                         NaN                   NaN                     NaN   \n",
      "2                         NaN                   NaN                     NaN   \n",
      "3                         NaN                   NaN                     NaN   \n",
      "4                         NaN                   NaN                     NaN   \n",
      "...                       ...                   ...                     ...   \n",
      "1916                      NaN                   NaN                     NaN   \n",
      "1917                      NaN                   NaN                     NaN   \n",
      "1918                      NaN                   NaN                     NaN   \n",
      "1919                      NaN                   NaN                     NaN   \n",
      "1920                      NaN                   NaN                     NaN   \n",
      "\n",
      "      prob_shippingAddress_new  po_prediction  max_prob_po_unk  \\\n",
      "0                          NaN          False           0.0000   \n",
      "1                          NaN          False           0.2222   \n",
      "2                          NaN          False           0.3809   \n",
      "3                          NaN          False           0.4000   \n",
      "4                          NaN          False           0.3809   \n",
      "...                        ...            ...              ...   \n",
      "1916                       NaN          False           0.5127   \n",
      "1917                       NaN          False           0.5366   \n",
      "1918                       NaN          False           0.4285   \n",
      "1919                       NaN          False           0.4285   \n",
      "1920                       NaN          False           0.5000   \n",
      "\n",
      "      max_prob_po_unk_comp  prob_Unknown_new  \n",
      "0                   1.0000               NaN  \n",
      "1                   0.7778               NaN  \n",
      "2                   0.6191               NaN  \n",
      "3                   0.6000               NaN  \n",
      "4                   0.6191               NaN  \n",
      "...                    ...               ...  \n",
      "1916                0.4873               NaN  \n",
      "1917                0.4634               NaN  \n",
      "1918                0.5715               NaN  \n",
      "1919                0.5715               NaN  \n",
      "1920                0.5000               NaN  \n",
      "\n",
      "[1921 rows x 1017 columns]\n"
     ]
    }
   ],
   "source": [
    "print(x)"
   ]
  },
  {
   "cell_type": "code",
   "execution_count": null,
   "metadata": {},
   "outputs": [],
   "source": []
  }
 ],
 "metadata": {
  "kernelspec": {
   "display_name": "Python 3",
   "language": "python",
   "name": "python3"
  },
  "language_info": {
   "codemirror_mode": {
    "name": "ipython",
    "version": 3
   },
   "file_extension": ".py",
   "mimetype": "text/x-python",
   "name": "python",
   "nbconvert_exporter": "python",
   "pygments_lexer": "ipython3",
   "version": "3.8.5"
  }
 },
 "nbformat": 4,
 "nbformat_minor": 4
}
